{
 "cells": [
  {
   "cell_type": "code",
   "execution_count": 1,
   "id": "2816cc68",
   "metadata": {},
   "outputs": [
    {
     "name": "stderr",
     "output_type": "stream",
     "text": [
      "INFO:root:VERSION 2.1.2\n"
     ]
    }
   ],
   "source": [
    "%matplotlib inline\n",
    "import logging\n",
    "\n",
    "import os\n",
    "import random\n",
    "import shutil\n",
    "import pandas as pd\n",
    "import numpy as np\n",
    "import matplotlib.pyplot as plt\n",
    "%matplotlib inline\n",
    "import seaborn as sns\n",
    "sns.set(style='darkgrid', font_scale=1.4)\n",
    "from glob import glob\n",
    "import wandb\n",
    "\n",
    "# Pytorch\n",
    "import torch\n",
    "import torch.nn as nn\n",
    "import torch.nn.functional as F\n",
    "import torch.optim as optim\n",
    "import torch.optim.lr_scheduler as lr_scheduler\n",
    "from torch.utils.data import Dataset, DataLoader, random_split, Dataset\n",
    "from torchvision import datasets, transforms, models\n",
    "from torchvision.datasets import ImageFolder\n",
    "from torchvision.utils import make_grid\n",
    "from torchvision.transforms import ToTensor, RandomCrop\n",
    "\n",
    "from tqdm import tqdm\n",
    "from sklearn.manifold import TSNE\n",
    "from PIL import Image\n",
    "import warnings\n",
    "warnings.filterwarnings('ignore')\n",
    "import statistics\n",
    "\n",
    "\n",
    "import torchvision\n",
    "import umap\n",
    "from cycler import cycler\n",
    "\n",
    "import pytorch_metric_learning\n",
    "import pytorch_metric_learning.utils.logging_presets as logging_presets\n",
    "from pytorch_metric_learning import losses, miners, samplers, testers, trainers\n",
    "from pytorch_metric_learning.utils.accuracy_calculator import AccuracyCalculator\n",
    "from pytorch_metric_learning.distances import CosineSimilarity\n",
    "from pytorch_metric_learning.utils.inference import InferenceModel, MatchFinder\n",
    "from pytorch_metric_learning.utils import common_functions as c_f\n",
    "\n",
    "logging.getLogger().setLevel(logging.INFO)\n",
    "logging.info(\"VERSION %s\" % pytorch_metric_learning.__version__)\n",
    "\n",
    "import fuzzymatcher\n",
    "from fuzzymatcher import link_table, fuzzy_left_join"
   ]
  },
  {
   "cell_type": "code",
   "execution_count": 63,
   "id": "abccd170",
   "metadata": {},
   "outputs": [],
   "source": [
    "path = '/var/scratch/mxiao/data/'\n",
    "os.chdir(path)"
   ]
  },
  {
   "cell_type": "code",
   "execution_count": 78,
   "id": "52c1350f",
   "metadata": {},
   "outputs": [],
   "source": [
    "# Set the image transforms\n",
    "normalize = transforms.Normalize(mean=[0.6195012,0.6195012,0.6195012], std=[0.3307451,0.3307451,0.3307451])\n",
    "# normalize = transforms.Normalize(mean=[0.53997546,0.53997546,0.53997546], std=[0.36844322,0.36844322,0.36844322])\n",
    "\n",
    "train_transform = transforms.Compose([\n",
    "        transforms.RandomRotation(10),      # rotate +/- 10 degrees\n",
    "        transforms.RandomHorizontalFlip(),  # reverse 50% of images\n",
    "        transforms.RandomVerticalFlip(p=0.5),\n",
    "#         transforms.Resize(224),             # resize shortest side to 224 pixels\n",
    "#         transforms.CenterCrop(224),         # crop longest side to 224 pixels at center\n",
    "        transforms.RandomCrop(size=(224,224),pad_if_needed=True), \n",
    "        transforms.ToTensor(),\n",
    "        normalize\n",
    "    ])\n",
    "\n",
    "test_transform = transforms.Compose([\n",
    "        transforms.RandomCrop((224,224),pad_if_needed=True),\n",
    "        transforms.ToTensor(),\n",
    "        normalize\n",
    "    ])"
   ]
  },
  {
   "cell_type": "code",
   "execution_count": 88,
   "id": "c3909237",
   "metadata": {},
   "outputs": [],
   "source": [
    "batch_size = 32\n",
    "\n",
    "dataset1 = datasets.ImageFolder(root=(\"model/train\"),transform=train_transform)\n",
    "dataset2 = datasets.ImageFolder(root=(\"model/test\"),transform=test_transform)\n",
    "\n",
    "class_dict = {i: class_name for i, class_name in enumerate(dataset1.classes)}"
   ]
  },
  {
   "cell_type": "code",
   "execution_count": 89,
   "id": "ad6f8434",
   "metadata": {},
   "outputs": [],
   "source": [
    "train_loader = DataLoader(dataset1, batch_size=32, shuffle=True,num_workers=4)\n",
    "# val_loader = DataLoader(val_dataset, batch_size=32, shuffle=False,num_workers=4)\n",
    "test_loader = DataLoader(dataset2, batch_size=32, shuffle=False,num_workers=4)"
   ]
  },
  {
   "cell_type": "code",
   "execution_count": 90,
   "id": "ea57701b",
   "metadata": {},
   "outputs": [],
   "source": [
    "# class MLP(nn.Module):\n",
    "#     # layer_sizes[0] is the dimension of the input\n",
    "#     # layer_sizes[-1] is the dimension of the output\n",
    "#     def __init__(self, layer_sizes, final_relu=False):\n",
    "#         super().__init__()\n",
    "#         layer_list = []\n",
    "#         layer_sizes = [int(x) for x in layer_sizes]\n",
    "#         num_layers = len(layer_sizes) - 1\n",
    "#         final_relu_layer = num_layers if final_relu else num_layers - 1\n",
    "#         for i in range(len(layer_sizes) - 1):\n",
    "#             input_size = layer_sizes[i]\n",
    "#             curr_size = layer_sizes[i + 1]\n",
    "#             if i < final_relu_layer:\n",
    "#                 layer_list.append(nn.ReLU(inplace=False))\n",
    "#             layer_list.append(nn.Linear(input_size, curr_size))\n",
    "#         self.net = nn.Sequential(*layer_list)\n",
    "#         self.last_linear = self.net[-1]\n",
    "\n",
    "#     def forward(self, x):\n",
    "#         return self.net(x)\n",
    "class MLP(nn.Module):\n",
    "    # layer_sizes[0] is the dimension of the input\n",
    "    # layer_sizes[-1] is the dimension of the output\n",
    "    def __init__(self, layer_sizes, final_relu=False, dropout_rate=0.5): # you can adjust dropout_rate as per your needs\n",
    "        super().__init__()\n",
    "        layer_list = []\n",
    "        layer_sizes = [int(x) for x in layer_sizes]\n",
    "        num_layers = len(layer_sizes) - 1\n",
    "        final_relu_layer = num_layers if final_relu else num_layers - 1\n",
    "        for i in range(len(layer_sizes) - 1):\n",
    "            input_size = layer_sizes[i]\n",
    "            curr_size = layer_sizes[i + 1]\n",
    "            if i < final_relu_layer:\n",
    "                layer_list.append(nn.ReLU(inplace=False))\n",
    "                layer_list.append(nn.Dropout(dropout_rate))  # add dropout layer after ReLU\n",
    "            layer_list.append(nn.Linear(input_size, curr_size))\n",
    "        self.net = nn.Sequential(*layer_list)\n",
    "        self.last_linear = self.net[-1]\n",
    "\n",
    "    def forward(self, x):\n",
    "        return self.net(x)\n"
   ]
  },
  {
   "cell_type": "code",
   "execution_count": 91,
   "id": "f78f2823",
   "metadata": {},
   "outputs": [],
   "source": [
    "device = torch.device(\"cuda\" if torch.cuda.is_available() else \"cpu\")"
   ]
  },
  {
   "cell_type": "code",
   "execution_count": 92,
   "id": "93325294",
   "metadata": {},
   "outputs": [],
   "source": [
    "# Resnet\n",
    "# Set trunk model and replace the softmax layer with an identity function\n",
    "trunk = torchvision.models.resnet50(pretrained=True).to(device)\n",
    "trunk_output_size = trunk.fc.in_features\n",
    "trunk.fc = nn.Identity()  #"
   ]
  },
  {
   "cell_type": "code",
   "execution_count": 93,
   "id": "0fd1e874",
   "metadata": {},
   "outputs": [
    {
     "data": {
      "text/plain": [
       "<All keys matched successfully>"
      ]
     },
     "execution_count": 93,
     "metadata": {},
     "output_type": "execute_result"
    }
   ],
   "source": [
    "import glob\n",
    "best_trunk_weights = glob.glob('PML_v13/trunk_best*.pth'.format('Resnet50'))[0]\n",
    "trunk.load_state_dict(torch.load(best_trunk_weights))"
   ]
  },
  {
   "cell_type": "code",
   "execution_count": 136,
   "id": "1f103bd9",
   "metadata": {},
   "outputs": [],
   "source": [
    "# embedder = MLP([trunk_output_size, 748]).to(device)\n",
    "embedder = MLP([trunk_output_size, 748], dropout_rate=0.3).to(device)  # example with custom dropout rate"
   ]
  },
  {
   "cell_type": "code",
   "execution_count": 137,
   "id": "f49b5f22",
   "metadata": {
    "scrolled": true
   },
   "outputs": [
    {
     "data": {
      "text/plain": [
       "<All keys matched successfully>"
      ]
     },
     "execution_count": 137,
     "metadata": {},
     "output_type": "execute_result"
    }
   ],
   "source": [
    "best_embedder_weights = glob.glob('PML_v13/embedder_best*.pth'.format('Resnet50'))[0]\n",
    "embedder.load_state_dict(torch.load(best_embedder_weights))"
   ]
  },
  {
   "cell_type": "code",
   "execution_count": 138,
   "id": "12867089",
   "metadata": {},
   "outputs": [],
   "source": [
    "# classifier = nn.DataParallel(MLP([748, len(class_dict)])).to(device)\n",
    "classifier = nn.DataParallel(MLP([748, len(class_dict)], dropout_rate=0)).to(device)  # example with custom dropout rate"
   ]
  },
  {
   "cell_type": "code",
   "execution_count": 139,
   "id": "fdef47c3",
   "metadata": {},
   "outputs": [],
   "source": [
    "CFG = dict(\n",
    "        epochs = 40\n",
    "#         model = 'resnet101'\n",
    ")"
   ]
  },
  {
   "cell_type": "code",
   "execution_count": 140,
   "id": "a3aae221",
   "metadata": {},
   "outputs": [],
   "source": [
    "# Define the loss function and optimizer\n",
    "criterion = nn.CrossEntropyLoss()\n",
    "optimizer = optim.AdamW(classifier.parameters(), lr=0.001, weight_decay=0.1)\n",
    "\n",
    "# Learning rate scheduler\n",
    "scheduler = lr_scheduler.CosineAnnealingLR(optimizer, T_max=CFG['epochs'])"
   ]
  },
  {
   "cell_type": "code",
   "execution_count": 141,
   "id": "9d283d31",
   "metadata": {},
   "outputs": [],
   "source": [
    "def train_one_epoch(train_loader, model, criterion, optimizer, scheduler):\n",
    "    # Train mode\n",
    "    model.train()\n",
    "    \n",
    "    # Track metrics\n",
    "    loss_epoch = 0\n",
    "    accuracy_epoch = 0\n",
    "    \n",
    "    # Loop over minibatches\n",
    "    for inputs, labels in tqdm(train_loader):\n",
    "        # Send to device\n",
    "        inputs = inputs.to(device)\n",
    "        labels = labels.to(device)\n",
    "\n",
    "        # Forward pass\n",
    "        with torch.no_grad():\n",
    "            backbone_out = trunk(inputs)\n",
    "            embedding_out = embedder(backbone_out)\n",
    "            \n",
    "        outputs = model(embedding_out)\n",
    "        loss = criterion(outputs, labels)\n",
    "        \n",
    "#         loss.requires_grad = True\n",
    "        # Backprop\n",
    "        loss.backward()\n",
    "\n",
    "        # Update parameters\n",
    "        optimizer.step()\n",
    "\n",
    "        # Zero gradients\n",
    "        optimizer.zero_grad()\n",
    "\n",
    "        # Track loss\n",
    "        loss_epoch += loss.detach().item()\n",
    "        \n",
    "        # Accuracy\n",
    "        _, preds = torch.max(outputs, 1)\n",
    "        accuracy_epoch += torch.sum(preds == labels)/inputs.shape[0]\n",
    "        \n",
    "    # Update learning rate\n",
    "    scheduler.step()\n",
    "        \n",
    "    return loss_epoch/len(train_loader), accuracy_epoch.item()/len(train_loader)"
   ]
  },
  {
   "cell_type": "code",
   "execution_count": 142,
   "id": "489b2510",
   "metadata": {},
   "outputs": [],
   "source": [
    "def evaluate_one_epoch(test_loader, model, criterion):\n",
    "    # Eval mode\n",
    "    model.eval()\n",
    "    \n",
    "    # Track metrics\n",
    "    loss_epoch = 0\n",
    "    accuracy_epoch = 0\n",
    "    \n",
    "    # Don't update weights\n",
    "    with torch.no_grad():\n",
    "        # Loop over minibatches\n",
    "        for inputs, labels in tqdm(test_loader):\n",
    "            # Send to device\n",
    "            inputs = inputs.to(device)\n",
    "            labels = labels.to(device)\n",
    "            \n",
    "            # Forward pass\n",
    "            backbone_out = trunk(inputs)\n",
    "            embedding_out = embedder(backbone_out)\n",
    "            \n",
    "            outputs = model(embedding_out)\n",
    "            loss = criterion(outputs, labels)\n",
    "            \n",
    "            # Track loss\n",
    "            loss_epoch += loss.detach().item()\n",
    "            \n",
    "            # Accuracy\n",
    "            _, preds = torch.max(outputs, 1)\n",
    "            accuracy_epoch += torch.sum(preds == labels)/inputs.shape[0]\n",
    "    \n",
    "    return loss_epoch/len(test_loader), accuracy_epoch.item()/len(test_loader)"
   ]
  },
  {
   "cell_type": "code",
   "execution_count": 143,
   "id": "707cf53b",
   "metadata": {},
   "outputs": [],
   "source": [
    "# Plot history\n",
    "def plot_hist(train_loss_hist, test_loss_hist, train_acc_hist, test_acc_hist):    \n",
    "    plt.figure(figsize=(15,4))\n",
    "    plt.subplot(1,2,1)\n",
    "    plt.plot(train_loss_hist, label='Train_Loss')\n",
    "    plt.plot(test_loss_hist, label='Test_loss')\n",
    "    plt.title('Cross Entropy Loss')\n",
    "    plt.legend()\n",
    "    \n",
    "    plt.subplot(1,2,2)\n",
    "    plt.plot(train_acc_hist, label='Train_Accuracy')\n",
    "    plt.plot(test_acc_hist, label='Val_Accuracy')\n",
    "    plt.title('Accuracy')\n",
    "    plt.legend()\n",
    "    plt.show()"
   ]
  },
  {
   "cell_type": "code",
   "execution_count": 144,
   "id": "bb9b395c",
   "metadata": {},
   "outputs": [],
   "source": [
    "def train_model(model, criterion, optimizer, scheduler, train_loader, test_loader, verbose=True):\n",
    "    # Initialise outputs\n",
    "    train_loss_hist = []\n",
    "    test_loss_hist = []\n",
    "    train_acc_hist = []\n",
    "    test_acc_hist = []\n",
    "    best_acc = 0.0\n",
    "    model_path = './emb_res50_1024_model_v1.pth'\n",
    "    \n",
    "    # Loop over epochs\n",
    "    for epoch in range(CFG['epochs']):\n",
    "        # Train\n",
    "        train_loss, train_accuracy = train_one_epoch(train_loader, model, criterion, optimizer, scheduler)\n",
    "        \n",
    "        # Evaluate\n",
    "        test_loss, test_accuracy = evaluate_one_epoch(test_loader, model, criterion)\n",
    "        \n",
    "        # Track metrics\n",
    "        train_loss_hist.append(train_loss)\n",
    "        test_loss_hist.append(test_loss)\n",
    "        train_acc_hist.append(train_accuracy)\n",
    "        test_acc_hist.append(test_accuracy)\n",
    "        \n",
    "        # Log metrics\n",
    "        wandb.log({\n",
    "        'epoch': epoch,\n",
    "        'train_loss': train_loss,\n",
    "        'test_loss': test_loss,\n",
    "        'train_accuracy': train_accuracy,\n",
    "        'test_accuracy': test_accuracy\n",
    "        })\n",
    "        \n",
    "        if test_accuracy > best_acc:\n",
    "            best_acc = test_accuracy\n",
    "            torch.save(model.state_dict(), model_path) \n",
    "            print('saving model with acc {:.3f}'.format(best_acc))\n",
    "            \n",
    "        # Print loss\n",
    "        if verbose:\n",
    "            if (epoch+1)%1==0:\n",
    "                print(f'Epoch {epoch+1}/{CFG[\"epochs\"]}, loss {train_loss:.5f}, test_loss {test_loss:.5f}, accuracy {train_accuracy:.5f}, test_accuracy {test_accuracy:.5f}')\n",
    "    \n",
    "    return train_loss_hist, test_loss_hist, train_acc_hist, test_acc_hist"
   ]
  },
  {
   "cell_type": "code",
   "execution_count": 145,
   "id": "24987f3d",
   "metadata": {},
   "outputs": [
    {
     "data": {
      "text/html": [
       "Finishing last run (ID:5ux746cr) before initializing another..."
      ],
      "text/plain": [
       "<IPython.core.display.HTML object>"
      ]
     },
     "metadata": {},
     "output_type": "display_data"
    },
    {
     "data": {
      "text/html": [
       "Waiting for W&B process to finish... <strong style=\"color:green\">(success).</strong>"
      ],
      "text/plain": [
       "<IPython.core.display.HTML object>"
      ]
     },
     "metadata": {},
     "output_type": "display_data"
    },
    {
     "data": {
      "text/html": [
       "<style>\n",
       "    table.wandb td:nth-child(1) { padding: 0 10px; text-align: left ; width: auto;} td:nth-child(2) {text-align: left ; width: 100%}\n",
       "    .wandb-row { display: flex; flex-direction: row; flex-wrap: wrap; justify-content: flex-start; width: 100% }\n",
       "    .wandb-col { display: flex; flex-direction: column; flex-basis: 100%; flex: 1; padding: 10px; }\n",
       "    </style>\n",
       "<div class=\"wandb-row\"><div class=\"wandb-col\"><h3>Run history:</h3><br/><table class=\"wandb\"><tr><td>epoch</td><td>▁▂▃▄▅▅▆▇█</td></tr><tr><td>test_accuracy</td><td>▃▃▁█▅██▆▄</td></tr><tr><td>test_loss</td><td>▁▄▅▆▇▇▇██</td></tr><tr><td>train_accuracy</td><td>▁▅▆▇▇▇███</td></tr><tr><td>train_loss</td><td>█▃▂▂▂▁▁▁▁</td></tr></table><br/></div><div class=\"wandb-col\"><h3>Run summary:</h3><br/><table class=\"wandb\"><tr><td>epoch</td><td>8</td></tr><tr><td>test_accuracy</td><td>0.02213</td></tr><tr><td>test_loss</td><td>8.55639</td></tr><tr><td>train_accuracy</td><td>0.41289</td></tr><tr><td>train_loss</td><td>2.40332</td></tr></table><br/></div></div>"
      ],
      "text/plain": [
       "<IPython.core.display.HTML object>"
      ]
     },
     "metadata": {},
     "output_type": "display_data"
    },
    {
     "data": {
      "text/html": [
       " View run <strong style=\"color:#cdcd00\">vivid-fire-33</strong> at: <a href='https://wandb.ai/xiaomeng9061/comic-classification/runs/5ux746cr' target=\"_blank\">https://wandb.ai/xiaomeng9061/comic-classification/runs/5ux746cr</a><br/>Synced 6 W&B file(s), 0 media file(s), 0 artifact file(s) and 0 other file(s)"
      ],
      "text/plain": [
       "<IPython.core.display.HTML object>"
      ]
     },
     "metadata": {},
     "output_type": "display_data"
    },
    {
     "data": {
      "text/html": [
       "Find logs at: <code>./wandb/run-20230629_001559-5ux746cr/logs</code>"
      ],
      "text/plain": [
       "<IPython.core.display.HTML object>"
      ]
     },
     "metadata": {},
     "output_type": "display_data"
    },
    {
     "data": {
      "text/html": [
       "Successfully finished last run (ID:5ux746cr). Initializing new run:<br/>"
      ],
      "text/plain": [
       "<IPython.core.display.HTML object>"
      ]
     },
     "metadata": {},
     "output_type": "display_data"
    },
    {
     "data": {
      "application/vnd.jupyter.widget-view+json": {
       "model_id": "f91a4e5aaf544e1cb9c574e539d5780f",
       "version_major": 2,
       "version_minor": 0
      },
      "text/plain": [
       "VBox(children=(Label(value='Waiting for wandb.init()...\\r'), FloatProgress(value=0.01666931832830111, max=1.0)…"
      ]
     },
     "metadata": {},
     "output_type": "display_data"
    },
    {
     "data": {
      "text/html": [
       "Tracking run with wandb version 0.15.4"
      ],
      "text/plain": [
       "<IPython.core.display.HTML object>"
      ]
     },
     "metadata": {},
     "output_type": "display_data"
    },
    {
     "data": {
      "text/html": [
       "Run data is saved locally in <code>/var/scratch/mxiao/data/wandb/run-20230629_004632-7ffy08jq</code>"
      ],
      "text/plain": [
       "<IPython.core.display.HTML object>"
      ]
     },
     "metadata": {},
     "output_type": "display_data"
    },
    {
     "data": {
      "text/html": [
       "Syncing run <strong><a href='https://wandb.ai/xiaomeng9061/comic-classification/runs/7ffy08jq' target=\"_blank\">morning-elevator-34</a></strong> to <a href='https://wandb.ai/xiaomeng9061/comic-classification' target=\"_blank\">Weights & Biases</a> (<a href='https://wandb.me/run' target=\"_blank\">docs</a>)<br/>"
      ],
      "text/plain": [
       "<IPython.core.display.HTML object>"
      ]
     },
     "metadata": {},
     "output_type": "display_data"
    },
    {
     "data": {
      "text/html": [
       " View project at <a href='https://wandb.ai/xiaomeng9061/comic-classification' target=\"_blank\">https://wandb.ai/xiaomeng9061/comic-classification</a>"
      ],
      "text/plain": [
       "<IPython.core.display.HTML object>"
      ]
     },
     "metadata": {},
     "output_type": "display_data"
    },
    {
     "data": {
      "text/html": [
       " View run at <a href='https://wandb.ai/xiaomeng9061/comic-classification/runs/7ffy08jq' target=\"_blank\">https://wandb.ai/xiaomeng9061/comic-classification/runs/7ffy08jq</a>"
      ],
      "text/plain": [
       "<IPython.core.display.HTML object>"
      ]
     },
     "metadata": {},
     "output_type": "display_data"
    }
   ],
   "source": [
    "# Initialise run\n",
    "run = wandb.init(\n",
    "                 project = 'comic-classification',\n",
    "                 config = CFG,\n",
    "                 save_code = True)"
   ]
  },
  {
   "cell_type": "code",
   "execution_count": 146,
   "id": "15a92309",
   "metadata": {
    "scrolled": true
   },
   "outputs": [
    {
     "name": "stderr",
     "output_type": "stream",
     "text": [
      "100%|███████████████████████████████████████████████████████████████████████████████| 1114/1114 [02:03<00:00,  9.03it/s]\n",
      "100%|█████████████████████████████████████████████████████████████████████████████████| 562/562 [01:03<00:00,  8.81it/s]\n"
     ]
    },
    {
     "name": "stdout",
     "output_type": "stream",
     "text": [
      "saving model with acc 0.018\n",
      "Epoch 1/40, loss 3.77444, test_loss 7.00733, accuracy 0.23849, test_accuracy 0.01757\n"
     ]
    },
    {
     "name": "stderr",
     "output_type": "stream",
     "text": [
      "100%|███████████████████████████████████████████████████████████████████████████████| 1114/1114 [02:04<00:00,  8.91it/s]\n",
      "100%|█████████████████████████████████████████████████████████████████████████████████| 562/562 [01:03<00:00,  8.91it/s]\n"
     ]
    },
    {
     "name": "stdout",
     "output_type": "stream",
     "text": [
      "saving model with acc 0.023\n",
      "Epoch 2/40, loss 2.80619, test_loss 7.62297, accuracy 0.34503, test_accuracy 0.02280\n"
     ]
    },
    {
     "name": "stderr",
     "output_type": "stream",
     "text": [
      "100%|███████████████████████████████████████████████████████████████████████████████| 1114/1114 [02:04<00:00,  8.94it/s]\n",
      "100%|█████████████████████████████████████████████████████████████████████████████████| 562/562 [01:02<00:00,  8.96it/s]\n"
     ]
    },
    {
     "name": "stdout",
     "output_type": "stream",
     "text": [
      "saving model with acc 0.023\n",
      "Epoch 3/40, loss 2.62595, test_loss 8.01164, accuracy 0.37155, test_accuracy 0.02291\n"
     ]
    },
    {
     "name": "stderr",
     "output_type": "stream",
     "text": [
      "100%|███████████████████████████████████████████████████████████████████████████████| 1114/1114 [02:04<00:00,  8.93it/s]\n",
      "100%|█████████████████████████████████████████████████████████████████████████████████| 562/562 [01:03<00:00,  8.92it/s]\n"
     ]
    },
    {
     "name": "stdout",
     "output_type": "stream",
     "text": [
      "Epoch 4/40, loss 2.54976, test_loss 8.19067, accuracy 0.38811, test_accuracy 0.02230\n"
     ]
    },
    {
     "name": "stderr",
     "output_type": "stream",
     "text": [
      "100%|███████████████████████████████████████████████████████████████████████████████| 1114/1114 [02:05<00:00,  8.90it/s]\n",
      "100%|█████████████████████████████████████████████████████████████████████████████████| 562/562 [01:03<00:00,  8.83it/s]\n"
     ]
    },
    {
     "name": "stdout",
     "output_type": "stream",
     "text": [
      "saving model with acc 0.023\n",
      "Epoch 5/40, loss 2.50819, test_loss 8.33836, accuracy 0.39418, test_accuracy 0.02335\n"
     ]
    },
    {
     "name": "stderr",
     "output_type": "stream",
     "text": [
      "100%|███████████████████████████████████████████████████████████████████████████████| 1114/1114 [02:04<00:00,  8.94it/s]\n",
      "100%|█████████████████████████████████████████████████████████████████████████████████| 562/562 [01:02<00:00,  8.96it/s]\n"
     ]
    },
    {
     "name": "stdout",
     "output_type": "stream",
     "text": [
      "Epoch 6/40, loss 2.48648, test_loss 8.38862, accuracy 0.39559, test_accuracy 0.02285\n"
     ]
    },
    {
     "name": "stderr",
     "output_type": "stream",
     "text": [
      "100%|███████████████████████████████████████████████████████████████████████████████| 1114/1114 [02:04<00:00,  8.94it/s]\n",
      "100%|█████████████████████████████████████████████████████████████████████████████████| 562/562 [01:02<00:00,  8.95it/s]\n"
     ]
    },
    {
     "name": "stdout",
     "output_type": "stream",
     "text": [
      "Epoch 7/40, loss 2.46241, test_loss 8.42371, accuracy 0.40348, test_accuracy 0.02219\n"
     ]
    },
    {
     "name": "stderr",
     "output_type": "stream",
     "text": [
      "100%|███████████████████████████████████████████████████████████████████████████████| 1114/1114 [02:05<00:00,  8.91it/s]\n",
      "100%|███████████████████████████████████████████████████████████████████████████████| 1114/1114 [02:05<00:00,  8.89it/s]\n",
      "100%|█████████████████████████████████████████████████████████████████████████████████| 562/562 [01:02<00:00,  8.93it/s]\n"
     ]
    },
    {
     "name": "stdout",
     "output_type": "stream",
     "text": [
      "saving model with acc 0.025\n",
      "Epoch 9/40, loss 2.42950, test_loss 8.50039, accuracy 0.41092, test_accuracy 0.02491\n"
     ]
    },
    {
     "name": "stderr",
     "output_type": "stream",
     "text": [
      "100%|███████████████████████████████████████████████████████████████████████████████| 1114/1114 [02:05<00:00,  8.91it/s]\n",
      "100%|█████████████████████████████████████████████████████████████████████████████████| 562/562 [01:03<00:00,  8.91it/s]\n"
     ]
    },
    {
     "name": "stdout",
     "output_type": "stream",
     "text": [
      "Epoch 10/40, loss 2.39755, test_loss 8.53018, accuracy 0.41390, test_accuracy 0.02285\n"
     ]
    },
    {
     "name": "stderr",
     "output_type": "stream",
     "text": [
      " 27%|█████████████████████▊                                                          | 304/1114 [00:34<01:29,  9.05it/s]IOPub message rate exceeded.\n",
      "The notebook server will temporarily stop sending output\n",
      "to the client in order to avoid crashing it.\n",
      "To change this limit, set the config variable\n",
      "`--NotebookApp.iopub_msg_rate_limit`.\n",
      "\n",
      "Current values:\n",
      "NotebookApp.iopub_msg_rate_limit=1000.0 (msgs/sec)\n",
      "NotebookApp.rate_limit_window=3.0 (secs)\n",
      "\n",
      "100%|███████████████████████████████████████████████████████████████████████████████| 1114/1114 [02:04<00:00,  8.92it/s]\n",
      "100%|█████████████████████████████████████████████████████████████████████████████████| 562/562 [01:03<00:00,  8.90it/s]\n"
     ]
    },
    {
     "name": "stdout",
     "output_type": "stream",
     "text": [
      "Epoch 13/40, loss 2.35364, test_loss 8.43852, accuracy 0.42166, test_accuracy 0.02374\n"
     ]
    },
    {
     "name": "stderr",
     "output_type": "stream",
     "text": [
      "100%|███████████████████████████████████████████████████████████████████████████████| 1114/1114 [02:05<00:00,  8.89it/s]\n",
      "100%|█████████████████████████████████████████████████████████████████████████████████| 562/562 [01:03<00:00,  8.91it/s]\n"
     ]
    },
    {
     "name": "stdout",
     "output_type": "stream",
     "text": [
      "Epoch 14/40, loss 2.30708, test_loss 8.48941, accuracy 0.43252, test_accuracy 0.02430\n"
     ]
    },
    {
     "name": "stderr",
     "output_type": "stream",
     "text": [
      " 34%|███████████████████████████▏                                                    | 379/1114 [00:42<01:23,  8.85it/s]IOPub message rate exceeded.\n",
      "The notebook server will temporarily stop sending output\n",
      "to the client in order to avoid crashing it.\n",
      "To change this limit, set the config variable\n",
      "`--NotebookApp.iopub_msg_rate_limit`.\n",
      "\n",
      "Current values:\n",
      "NotebookApp.iopub_msg_rate_limit=1000.0 (msgs/sec)\n",
      "NotebookApp.rate_limit_window=3.0 (secs)\n",
      "\n",
      "100%|█████████████████████████████████████████████████████████████████████████████████| 562/562 [01:03<00:00,  8.82it/s]\n"
     ]
    },
    {
     "name": "stdout",
     "output_type": "stream",
     "text": [
      "saving model with acc 0.025\n",
      "Epoch 17/40, loss 2.27792, test_loss 8.35888, accuracy 0.44058, test_accuracy 0.02524\n"
     ]
    },
    {
     "name": "stderr",
     "output_type": "stream",
     "text": [
      "100%|███████████████████████████████████████████████████████████████████████████████| 1114/1114 [02:06<00:00,  8.83it/s]\n",
      "100%|█████████████████████████████████████████████████████████████████████████████████| 562/562 [01:02<00:00,  8.93it/s]\n"
     ]
    },
    {
     "name": "stdout",
     "output_type": "stream",
     "text": [
      "Epoch 18/40, loss 2.25146, test_loss 8.36309, accuracy 0.44671, test_accuracy 0.02458\n"
     ]
    },
    {
     "name": "stderr",
     "output_type": "stream",
     "text": [
      "100%|██████████████████████████████████████████████████████████████████████████████▊| 1112/1114 [02:04<00:00,  9.06it/s]IOPub message rate exceeded.\n",
      "The notebook server will temporarily stop sending output\n",
      "to the client in order to avoid crashing it.\n",
      "To change this limit, set the config variable\n",
      "`--NotebookApp.iopub_msg_rate_limit`.\n",
      "\n",
      "Current values:\n",
      "NotebookApp.iopub_msg_rate_limit=1000.0 (msgs/sec)\n",
      "NotebookApp.rate_limit_window=3.0 (secs)\n",
      "\n",
      "100%|███████████████████████████████████████████████████████████████████████████████| 1114/1114 [02:05<00:00,  8.88it/s]\n",
      "100%|█████████████████████████████████████████████████████████████████████████████████| 562/562 [01:02<00:00,  8.95it/s]\n"
     ]
    },
    {
     "name": "stdout",
     "output_type": "stream",
     "text": [
      "saving model with acc 0.026\n",
      "Epoch 22/40, loss 2.17794, test_loss 8.29599, accuracy 0.46440, test_accuracy 0.02563\n"
     ]
    },
    {
     "name": "stderr",
     "output_type": "stream",
     "text": [
      "100%|███████████████████████████████████████████████████████████████████████████████| 1114/1114 [02:04<00:00,  8.92it/s]\n",
      " 59%|███████████████████████████████████████████████▌                                 | 330/562 [00:37<00:25,  8.99it/s]IOPub message rate exceeded.\n",
      "The notebook server will temporarily stop sending output\n",
      "to the client in order to avoid crashing it.\n",
      "To change this limit, set the config variable\n",
      "`--NotebookApp.iopub_msg_rate_limit`.\n",
      "\n",
      "Current values:\n",
      "NotebookApp.iopub_msg_rate_limit=1000.0 (msgs/sec)\n",
      "NotebookApp.rate_limit_window=3.0 (secs)\n",
      "\n",
      "100%|███████████████████████████████████████████████████████████████████████████████| 1114/1114 [02:04<00:00,  8.94it/s]\n",
      "100%|█████████████████████████████████████████████████████████████████████████████████| 562/562 [01:02<00:00,  8.94it/s]\n"
     ]
    },
    {
     "name": "stdout",
     "output_type": "stream",
     "text": [
      "Epoch 26/40, loss 2.11210, test_loss 8.17989, accuracy 0.48440, test_accuracy 0.02563\n"
     ]
    },
    {
     "name": "stderr",
     "output_type": "stream",
     "text": [
      "100%|███████████████████████████████████████████████████████████████████████████████| 1114/1114 [02:04<00:00,  8.93it/s]\n",
      "100%|█████████████████████████████████████████████████████████████████████████████████| 562/562 [01:03<00:00,  8.92it/s]\n"
     ]
    },
    {
     "name": "stdout",
     "output_type": "stream",
     "text": [
      "saving model with acc 0.027\n",
      "Epoch 27/40, loss 2.10346, test_loss 8.15655, accuracy 0.48945, test_accuracy 0.02691\n"
     ]
    },
    {
     "name": "stderr",
     "output_type": "stream",
     "text": [
      " 49%|██████████████████████████████████████▊                                         | 541/1114 [01:00<01:03,  8.95it/s]IOPub message rate exceeded.\n",
      "The notebook server will temporarily stop sending output\n",
      "to the client in order to avoid crashing it.\n",
      "To change this limit, set the config variable\n",
      "`--NotebookApp.iopub_msg_rate_limit`.\n",
      "\n",
      "Current values:\n",
      "NotebookApp.iopub_msg_rate_limit=1000.0 (msgs/sec)\n",
      "NotebookApp.rate_limit_window=3.0 (secs)\n",
      "\n",
      "100%|█████████████████████████████████████████████████████████████████████████████████| 562/562 [01:03<00:00,  8.91it/s]\n"
     ]
    },
    {
     "name": "stdout",
     "output_type": "stream",
     "text": [
      "Epoch 30/40, loss 2.05462, test_loss 8.11727, accuracy 0.50348, test_accuracy 0.02658\n"
     ]
    },
    {
     "name": "stderr",
     "output_type": "stream",
     "text": [
      "100%|███████████████████████████████████████████████████████████████████████████████| 1114/1114 [02:04<00:00,  8.91it/s]\n",
      "100%|█████████████████████████████████████████████████████████████████████████████████| 562/562 [01:03<00:00,  8.89it/s]\n"
     ]
    },
    {
     "name": "stdout",
     "output_type": "stream",
     "text": [
      "Epoch 31/40, loss 2.05977, test_loss 8.10156, accuracy 0.50310, test_accuracy 0.02769\n"
     ]
    },
    {
     "name": "stderr",
     "output_type": "stream",
     "text": [
      " 78%|██████████████████████████████████████████████████████████████▌                 | 871/1114 [01:37<00:27,  8.98it/s]IOPub message rate exceeded.\n",
      "The notebook server will temporarily stop sending output\n",
      "to the client in order to avoid crashing it.\n",
      "To change this limit, set the config variable\n",
      "`--NotebookApp.iopub_msg_rate_limit`.\n",
      "\n",
      "Current values:\n",
      "NotebookApp.iopub_msg_rate_limit=1000.0 (msgs/sec)\n",
      "NotebookApp.rate_limit_window=3.0 (secs)\n",
      "\n",
      "100%|███████████████████████████████████████████████████████████████████████████████| 1114/1114 [02:06<00:00,  8.83it/s]\n",
      "100%|█████████████████████████████████████████████████████████████████████████████████| 562/562 [01:03<00:00,  8.79it/s]\n"
     ]
    },
    {
     "name": "stdout",
     "output_type": "stream",
     "text": [
      "Epoch 35/40, loss 2.01132, test_loss 8.06296, accuracy 0.51840, test_accuracy 0.02608\n"
     ]
    },
    {
     "name": "stderr",
     "output_type": "stream",
     "text": [
      "100%|███████████████████████████████████████████████████████████████████████████████| 1114/1114 [02:05<00:00,  8.87it/s]\n",
      " 90%|████████████████████████████████████████████████████████████████████████▉        | 506/562 [00:56<00:06,  8.93it/s]IOPub message rate exceeded.\n",
      "The notebook server will temporarily stop sending output\n",
      "to the client in order to avoid crashing it.\n",
      "To change this limit, set the config variable\n",
      "`--NotebookApp.iopub_msg_rate_limit`.\n",
      "\n",
      "Current values:\n",
      "NotebookApp.iopub_msg_rate_limit=1000.0 (msgs/sec)\n",
      "NotebookApp.rate_limit_window=3.0 (secs)\n",
      "\n",
      "100%|███████████████████████████████████████████████████████████████████████████████| 1114/1114 [02:04<00:00,  8.91it/s]\n",
      "100%|█████████████████████████████████████████████████████████████████████████████████| 562/562 [01:02<00:00,  8.93it/s]\n"
     ]
    },
    {
     "name": "stdout",
     "output_type": "stream",
     "text": [
      "Epoch 39/40, loss 1.98838, test_loss 8.04946, accuracy 0.53277, test_accuracy 0.02725\n"
     ]
    },
    {
     "name": "stderr",
     "output_type": "stream",
     "text": [
      "100%|███████████████████████████████████████████████████████████████████████████████| 1114/1114 [02:04<00:00,  8.95it/s]\n",
      "100%|█████████████████████████████████████████████████████████████████████████████████| 562/562 [01:03<00:00,  8.81it/s]"
     ]
    },
    {
     "name": "stdout",
     "output_type": "stream",
     "text": [
      "Epoch 40/40, loss 1.98873, test_loss 8.03331, accuracy 0.53008, test_accuracy 0.02869\n"
     ]
    },
    {
     "name": "stderr",
     "output_type": "stream",
     "text": [
      "\n"
     ]
    }
   ],
   "source": [
    "# Train model\n",
    "train_loss_hist, test_loss_hist, train_acc_hist, test_acc_hist = train_model(classifier, criterion, optimizer, scheduler, train_loader, test_loader, verbose=True)"
   ]
  },
  {
   "cell_type": "code",
   "execution_count": null,
   "id": "b7fd509f",
   "metadata": {},
   "outputs": [],
   "source": []
  }
 ],
 "metadata": {
  "kernelspec": {
   "display_name": "Python 3 (ipykernel)",
   "language": "python",
   "name": "python3"
  },
  "language_info": {
   "codemirror_mode": {
    "name": "ipython",
    "version": 3
   },
   "file_extension": ".py",
   "mimetype": "text/x-python",
   "name": "python",
   "nbconvert_exporter": "python",
   "pygments_lexer": "ipython3",
   "version": "3.10.9"
  }
 },
 "nbformat": 4,
 "nbformat_minor": 5
}
