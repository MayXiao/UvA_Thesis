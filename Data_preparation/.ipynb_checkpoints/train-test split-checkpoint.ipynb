{
 "cells": [
  {
   "cell_type": "code",
   "execution_count": 1,
   "id": "f0a1db4f",
   "metadata": {},
   "outputs": [],
   "source": [
    "import os\n",
    "import random\n",
    "import shutil\n",
    "import pandas as pd"
   ]
  },
  {
   "cell_type": "code",
   "execution_count": 2,
   "id": "e54bb6e9",
   "metadata": {},
   "outputs": [],
   "source": [
    "path = '/var/scratch/mxiao/data/'\n",
    "os.chdir(path)"
   ]
  },
  {
   "cell_type": "code",
   "execution_count": 3,
   "id": "187fba00",
   "metadata": {},
   "outputs": [],
   "source": [
    "df =  pd.read_csv('filename_less_10_panel.csv')\n",
    "filename = df[df.total_page_count <15].filename.tolist()"
   ]
  },
  {
   "cell_type": "code",
   "execution_count": 4,
   "id": "4cf2e23f",
   "metadata": {},
   "outputs": [
    {
     "data": {
      "text/plain": [
       "65"
      ]
     },
     "execution_count": 4,
     "metadata": {},
     "output_type": "execute_result"
    }
   ],
   "source": [
    "len(filename)"
   ]
  },
  {
   "cell_type": "code",
   "execution_count": 5,
   "id": "f447dad1",
   "metadata": {},
   "outputs": [],
   "source": [
    "import os\n",
    "import random\n",
    "import shutil\n",
    "\n",
    "# Set the percentage split for train, validation, and test sets\n",
    "train_percent = 0.6\n",
    "val_percent = 0.1\n",
    "test_percent = 0.3\n",
    "\n",
    "# Set the path to the directory containing the images\n",
    "data_path = 'cropped_panels/'\n",
    "\n",
    "\n",
    "# Set the path to the parent directory for the train, validation, and test directories\n",
    "if not os.path.exists('model'):\n",
    "    os.makedirs('model')\n",
    "model_path = 'model'"
   ]
  },
  {
   "cell_type": "code",
   "execution_count": 24,
   "id": "89052226",
   "metadata": {},
   "outputs": [],
   "source": [
    "folder_path = 'model'\n",
    "\n",
    "def remove_dirs(path):\n",
    "    for item in os.listdir(path):\n",
    "        item_path = os.path.join(path, item)\n",
    "        if os.path.isdir(item_path):\n",
    "            os.system(f'rm -rf \"{item_path}\"')\n",
    "remove_dirs(folder_path)"
   ]
  },
  {
   "cell_type": "code",
   "execution_count": 9,
   "id": "ff3b64fc",
   "metadata": {},
   "outputs": [],
   "source": [
    "# Set the paths to the train, validation, and test directories\n",
    "train_path = os.path.join(model_path, 'train')\n",
    "val_path = os.path.join(model_path, 'val')\n",
    "test_path = os.path.join(model_path, 'test')\n",
    "\n",
    "# Create the train, validation, and test directories inside the model directory\n",
    "os.makedirs(train_path, exist_ok=True)\n",
    "os.makedirs(val_path, exist_ok=True)\n",
    "os.makedirs(test_path, exist_ok=True)\n",
    "\n",
    "train_percent = 0.6\n",
    "val_percent = 0.1\n",
    "test_percent = 0.3"
   ]
  },
  {
   "cell_type": "code",
   "execution_count": null,
   "id": "b081e921",
   "metadata": {},
   "outputs": [],
   "source": [
    "# Set the paths to the train, validation, and test directories\n",
    "train_path = os.path.join(model_path, 'train')\n",
    "val_path = os.path.join(model_path, 'val')\n",
    "test_path = os.path.join(model_path, 'test')\n",
    "\n",
    "# Create the train, validation, and test directories inside the model directory\n",
    "os.makedirs(train_path, exist_ok=True)\n",
    "os.makedirs(val_path, exist_ok=True)\n",
    "os.makedirs(test_path, exist_ok=True)\n",
    "\n",
    "for dir in os.listdir(data_path):\n",
    "    if dir not in filename:\n",
    "#         print(dir)\n",
    "        class_dir = os.path.join(data_path, dir)\n",
    "#         print(class_dir)\n",
    "\n",
    "#         Create new subdirectories in the train, validation, and test directories\n",
    "        os.makedirs(os.path.join(train_path, dir), exist_ok=True)\n",
    "        os.makedirs(os.path.join(val_path, dir), exist_ok=True)\n",
    "        os.makedirs(os.path.join(test_path, dir), exist_ok=True)\n",
    "\n",
    "        # Iterate through all the files in the current directory and subdirectories\n",
    "        for root, _, files in os.walk(class_dir):\n",
    "            for file in files:\n",
    "                # Generate a random number between 0 and 1\n",
    "                rand_num = random.uniform(0, 1)\n",
    "\n",
    "                # Copy the file to the appropriate directory based on the random number\n",
    "                if rand_num < train_percent:\n",
    "                    shutil.copy(os.path.join(root, file), os.path.join(train_path, dir, file))\n",
    "                elif rand_num < (train_percent + val_percent):\n",
    "                    shutil.copy(os.path.join(root, file), os.path.join(val_path, dir, file))\n",
    "                else:\n",
    "                    shutil.copy(os.path.join(root, file), os.path.join(test_path, dir, file))"
   ]
  },
  {
   "cell_type": "code",
   "execution_count": 18,
   "id": "d642eccb",
   "metadata": {},
   "outputs": [],
   "source": [
    "# Iterate through all the directories and subdirectories in the data directory\n",
    "for root, dirs, files in os.walk(data_path):\n",
    "    # Iterate through all the directories in the current directory\n",
    "    for dir in dirs:\n",
    "        # Check if the directory name is in the exclude_dirs list\n",
    "        if dir not in filename:\n",
    "            # Create new subdirectories in the train, validation, and test directories\n",
    "            os.makedirs(os.path.join(train_path, dir), exist_ok=True)\n",
    "            os.makedirs(os.path.join(val_path, dir), exist_ok=True)\n",
    "            os.makedirs(os.path.join(test_path, dir), exist_ok=True)\n",
    "\n",
    "            # Set a counter to rename the images incrementally\n",
    "            count = 1\n",
    "\n",
    "            # Iterate through all the files in the current directory\n",
    "            for file in os.listdir(os.path.join(root, dir)):\n",
    "                if file.endswith('.png'):\n",
    "#                         print(page)\n",
    "                    # Generate a random number between 0 and 1\n",
    "                    rand_num = random.uniform(0, 1)\n",
    "\n",
    "                    # Copy the file to the appropriate directory based on the random number\n",
    "                    if rand_num < train_percent:\n",
    "                        new_filename = f'{dir}_{count}.png'\n",
    "                        shutil.copy(os.path.join(root, dir, file), os.path.join(train_path, dir, new_filename))\n",
    "                    elif rand_num < (train_percent + val_percent):\n",
    "                        new_filename = f'{dir}_{count}.png'\n",
    "                        shutil.copy(os.path.join(root, dir, file), os.path.join(val_path, dir, new_filename))\n",
    "                    else:\n",
    "                        new_filename = f'{dir}_{count}.png'\n",
    "                        shutil.copy(os.path.join(root, dir, file), os.path.join(test_path, dir, new_filename))\n",
    "\n",
    "                    count += 1\n",
    "                break\n",
    "            break"
   ]
  },
  {
   "cell_type": "code",
   "execution_count": null,
   "id": "57d9b20a",
   "metadata": {},
   "outputs": [],
   "source": [
    "os.path.splitext('page-11.png')[1]"
   ]
  },
  {
   "cell_type": "code",
   "execution_count": 25,
   "id": "6ce87b66",
   "metadata": {},
   "outputs": [
    {
     "name": "stdout",
     "output_type": "stream",
     "text": [
      "ls: cannot access model/train/: No such file or directory\r\n"
     ]
    }
   ],
   "source": [
    "!ls -a model/train/"
   ]
  },
  {
   "cell_type": "code",
   "execution_count": 23,
   "id": "9c8df3f8",
   "metadata": {},
   "outputs": [
    {
     "name": "stdout",
     "output_type": "stream",
     "text": [
      "0\r\n"
     ]
    }
   ],
   "source": [
    "ls model/train/'page-13' | wc -l"
   ]
  },
  {
   "cell_type": "code",
   "execution_count": null,
   "id": "a3d8f6fb",
   "metadata": {},
   "outputs": [],
   "source": [
    "ls model/train/Antidote | wc -l"
   ]
  },
  {
   "cell_type": "code",
   "execution_count": null,
   "id": "2f872b11",
   "metadata": {},
   "outputs": [],
   "source": [
    "ls model/test/Akira | wc -l"
   ]
  },
  {
   "cell_type": "code",
   "execution_count": null,
   "id": "73c905c9",
   "metadata": {},
   "outputs": [],
   "source": [
    "# Loop through all the images in the directory\n",
    "import matplotlib.pyplot as plt\n",
    "dir_path = 'model/val/Akira'\n",
    "# Loop through all the images in the directory\n",
    "for filename in os.listdir(dir_path):\n",
    "    if filename.endswith('.png') or filename.endswith('.jpg'):\n",
    "        # Read the image\n",
    "        image_path = os.path.join(dir_path, filename)\n",
    "        image = plt.imread(image_path)\n",
    "\n",
    "        # Get the size of the image\n",
    "        height, width = image.shape\n",
    "        size_str = f'Size: {width} x {height}'\n",
    "\n",
    "        # Display the image and its size\n",
    "        fig, ax = plt.subplots()\n",
    "        ax.imshow(image)\n",
    "        ax.set_title(f'{filename}\\n{size_str}')\n",
    "        plt.show()"
   ]
  },
  {
   "cell_type": "code",
   "execution_count": null,
   "id": "02e4349b",
   "metadata": {},
   "outputs": [],
   "source": [
    "from PIL import Image\n",
    "from IPython.display import display\n",
    "\n",
    "import os\n",
    "\n",
    "folder_path = 'model/train/Akira'\n",
    "\n",
    "for filename in os.listdir(folder_path):\n",
    "    if filename.endswith('.png'):\n",
    "        img_path = os.path.join(folder_path, filename)\n",
    "        display(Image.open(img_path))\n"
   ]
  },
  {
   "cell_type": "code",
   "execution_count": null,
   "id": "a8ac57aa",
   "metadata": {},
   "outputs": [],
   "source": []
  }
 ],
 "metadata": {
  "kernelspec": {
   "display_name": "Python 3 (ipykernel)",
   "language": "python",
   "name": "python3"
  },
  "language_info": {
   "codemirror_mode": {
    "name": "ipython",
    "version": 3
   },
   "file_extension": ".py",
   "mimetype": "text/x-python",
   "name": "python",
   "nbconvert_exporter": "python",
   "pygments_lexer": "ipython3",
   "version": "3.10.9"
  }
 },
 "nbformat": 4,
 "nbformat_minor": 5
}
